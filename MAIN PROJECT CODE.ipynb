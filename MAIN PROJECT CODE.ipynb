{
 "cells": [
  {
   "cell_type": "code",
   "execution_count": 1,
   "id": "321c6e6d",
   "metadata": {},
   "outputs": [],
   "source": [
    "import os\n",
    "import time\n",
    "import subprocess\n",
    "import json"
   ]
  },
  {
   "cell_type": "code",
   "execution_count": 2,
   "id": "a6356170",
   "metadata": {},
   "outputs": [],
   "source": [
    "import wolframalpha\n",
    "import requests\n",
    "import webbrowser\n",
    "import wikipedia\n",
    "import datetime"
   ]
  },
  {
   "cell_type": "code",
   "execution_count": 3,
   "id": "ba8ebba5",
   "metadata": {},
   "outputs": [],
   "source": [
    "import speech_recognition as sr\n",
    "import pyttsx3"
   ]
  },
  {
   "cell_type": "code",
   "execution_count": 4,
   "id": "b60ab184",
   "metadata": {},
   "outputs": [
    {
     "name": "stdout",
     "output_type": "stream",
     "text": [
      "LOADING YOUR PERSONAL AI ASSISTANT JARVIS\n"
     ]
    }
   ],
   "source": [
    "print('LOADING YOUR PERSONAL AI ASSISTANT JARVIS')"
   ]
  },
  {
   "cell_type": "code",
   "execution_count": 5,
   "id": "f8973d6a",
   "metadata": {},
   "outputs": [],
   "source": [
    "engine=pyttsx3.init('sapi5')\n",
    "voices=engine.getProperty('voices')\n",
    "engine.setProperty(\"voice\",'voices[0].id')"
   ]
  },
  {
   "cell_type": "code",
   "execution_count": 6,
   "id": "ce2f93dc",
   "metadata": {},
   "outputs": [],
   "source": [
    "def speak(text):\n",
    "    engine.say(text)\n",
    "    engine.runAndWait()"
   ]
  },
  {
   "cell_type": "code",
   "execution_count": 7,
   "id": "d363baab",
   "metadata": {},
   "outputs": [],
   "source": [
    "def wishMe():\n",
    "    hour=datetime.datetime.now().hour\n",
    "    if hour>=0 and hour<12:\n",
    "        speak(\"hello, good morning Keerthi\")\n",
    "        print(\"hello, good morning Keerthi\")\n",
    "    elif hour>=12 and hour<=18:\n",
    "        speak(\"hello,good afternoon Keerthi\")\n",
    "        print(\"hello,good afternoon Keerthi\")\n",
    "    else:\n",
    "        speak(\"Its already night time just go to sleep\")\n",
    "        print(\"Its already night time just go to sleep\")"
   ]
  },
  {
   "cell_type": "code",
   "execution_count": 8,
   "id": "de6574d5",
   "metadata": {},
   "outputs": [],
   "source": [
    "def takeCommand():\n",
    "    r=sr.Recognizer()\n",
    "    with sr.Microphone() as source:\n",
    "        print(\"I am listening....\")\n",
    "        audio=r.listen(source)\n",
    "        \n",
    "        try:\n",
    "            statement=r.recognize_google(audio,language='en-in')\n",
    "            print(f\"user said:{statement}\\n\")\n",
    "        except Exception as e:\n",
    "            speak(\"sorry,can you come again\")\n",
    "            return \"None\"\n",
    "        return statement       "
   ]
  },
  {
   "cell_type": "code",
   "execution_count": 9,
   "id": "2ba86281",
   "metadata": {},
   "outputs": [
    {
     "name": "stdout",
     "output_type": "stream",
     "text": [
      "hello, good morning Keerthi\n"
     ]
    }
   ],
   "source": [
    "speak(\"LOADING YOUR PERSONAL AI ASSISTANT JARVIS\")\n",
    "wishMe()"
   ]
  },
  {
   "cell_type": "code",
   "execution_count": null,
   "id": "e9af8fdb",
   "metadata": {},
   "outputs": [
    {
     "name": "stdout",
     "output_type": "stream",
     "text": [
      "I am listening....\n",
      "user said:who are you\n",
      "\n",
      "I am listening....\n",
      "user said:please can you open Google for me\n",
      "\n",
      "I am listening....\n",
      "user said:who is Mahatma Gandhi according to Wikipedia\n",
      "\n",
      "Mahatma Gandhi was assassinated on 30 January 1948 at age 78 in the compound of Birla House (now Gandhi Smriti), a large mansion in central New Delhi. His assassin was Nathuram Vinayak Godse, a Chitpavan Brahmin from Pune, Maharashtra, a Hindu nationalist, a member of the Hindu Mahasabha,  Godse considered Gandhi to have been too accommodating to Muslims during the Partition of India of the previous year.Sometime after 5 p.m., according to witnesses, Gandhi had reached the top of the steps leading to the raised lawn behind Birla House where he had been conducting multi-faith prayer meetings every evening.  As Gandhi began to walk toward the dais, Godse stepped out from the crowd flanking Gandhi's path, and fired three bullets into Gandhi's chest and abdomen at point-blank range.\n",
      "I am listening....\n",
      "user said:who created you Jarvis\n",
      "\n",
      "I WAS BUILT BY KEERTHI\n",
      "I am listening....\n",
      "user said:Jarvis what are the tasks you are going to do for me\n",
      "\n",
      "I am listening....\n"
     ]
    }
   ],
   "source": [
    "if __name__=='__main__':\n",
    "    while True:\n",
    "        speak(\"How can I help you?\")\n",
    "        statement=takeCommand().lower()\n",
    "        if statement==0:\n",
    "            continue\n",
    "        if \"good bye\" in statement or \"ok bye\" in statement or \"stop\" in statement:\n",
    "            speak(\"Your personal AI assistant JARVIS is shutting down,good bye\")\n",
    "            print(\"Your personal AI assistant JARVIS is shutting down,good bye\")\n",
    "            break\n",
    "        if 'wikipedia' in statement:\n",
    "            speak(\"searching wikipedia....\")\n",
    "            statement=statement.replace(\"wikipedia\",\" \")\n",
    "            results=wikipedia.summary(statement,sentences=3)\n",
    "            speak(\"According to wikipedia....\")\n",
    "            print(results)\n",
    "            speak(results)\n",
    "        elif \"open youtube\" in statement:\n",
    "            webbrowser.open_new_tab(\"https://www.youtube.com\")\n",
    "            speak(\"Youtube is opening\")\n",
    "            time.sleep(5)\n",
    "        elif \"open google\" in statement:\n",
    "            webbrowser.open_new_tab(\"https://www.google.com\")\n",
    "            speak(\"Google search is opening\")\n",
    "            time.sleep(5)\n",
    "        elif \"open gmail\" in statement:\n",
    "            webbrowser.open_new_tab(\"gmail.com\")\n",
    "            speak(\"Your gmail is opening\")\n",
    "            time.sleep(5)\n",
    "        elif \"weather\" in statement:\n",
    "            api_key=\" 8ef61edcf1c576d65d836254e11ea420\"\n",
    "            base_url=\"https://api.openweathermap.org/data/2.5/weather?\"\n",
    "            speak(\"What's the city name\")\n",
    "            city_name=takeCommand()\n",
    "            complete_url=base_url+\"appid=\"+api_key+\"&q=\"+city_name\n",
    "            response=requests.get(complete_url)\n",
    "            x=response.json()\n",
    "            if x[\"cod\"]!=\"404\":\n",
    "                y=x[\"main\"]\n",
    "                current_temperature=y[\"temp\"]\n",
    "                current_humidity=y[\"humidity\"]\n",
    "                z=x[\"weather\"]\n",
    "                weather_description=z[0][\"description\"]\n",
    "                speak(\"Temperature in kelvin units is\"+str(current_temperature)+\"\\n humidity in percentage is\"+str(current_humidity)+\"\\n weather description\"+str(weather_description))\n",
    "                print(\"Temperature in kelvin units is\"+str(current_temperature)+\"\\n humidity in percentage is\"+str(current_humidity)+\"\\n weather description\"+str(weather_description))\n",
    "            else:\n",
    "                speak(\"city not found\")\n",
    "                print(\"city not found\")\n",
    "        elif \"time\" in statement:\n",
    "            strTime=datetime.datetime.now().strftime(\"%H:%M:%S\")\n",
    "            speak(f\"the time is {strTime}\")\n",
    "        elif \"who are you\" in statement or \"what can you do\" in statement:\n",
    "            speak('Hey, this is JARVIS your personal assistant. I am programmed to do minor tasks, like opening youtube, google chrome, gmail and stack overflow, predict time, take a photo, search wikipedia, predict weather in different cities, get top headline news from times of India and you can ask me computational and geographical questions too!')\n",
    "        elif \"who made you\" in statement or \"who created you\" in statement or \"who discovered you\" in statement:\n",
    "            speak('I WAS BUILT BY KEERTHI')\n",
    "            print(\"I WAS BUILT BY KEERTHI\")\n",
    "        elif \"open stack overflow\" in statement:\n",
    "            webbrowser.open_new_tab(\"https://stackoverflow.com/login\")\n",
    "            time.sleep(5)\n",
    "        elif \"news\" in statement:\n",
    "            news=webbrowser.open_new_tab(\"https://timesofindia.indiatimes.com/home/headlines\")\n",
    "            speak(\"here are some headlines for you from times of India - happy reading\")  \n",
    "            time.sleep(5)\n",
    "        elif \"search\" in statement:\n",
    "            statement=statement.replace(\"search\",\"\")\n",
    "            webbrowser.open_new_tab(\"statement\")\n",
    "            time.sleep(5)\n",
    "        elif \"ask\" in statement:\n",
    "            speak(\"I can answer to computational and geographical questions!!  Just ask what you want\")\n",
    "            question=takeCommand()\n",
    "            app_id=\"“R2K75H-7ELALHR35X\"\n",
    "            client=wolframalpha.Client(\"“R2K75H-7ELALHR35X\")\n",
    "            res=client.query(question)\n",
    "            answer=next(res.results).text\n",
    "            speak(answer)\n",
    "            print(answer)\n",
    "        elif \"log off\" in statement or \"sign out\" in statement or \"shut down\" in statement:\n",
    "            speak(\"Yes,your PC will shut down in 10 seconds - make sure you have saved and exit from all applications\")\n",
    "            subprocess.call(['shutdown',\"/1\"])\n",
    "time.sleep(3)         "
   ]
  },
  {
   "cell_type": "code",
   "execution_count": null,
   "id": "32c7edcb",
   "metadata": {},
   "outputs": [],
   "source": []
  },
  {
   "cell_type": "code",
   "execution_count": null,
   "id": "37843e38",
   "metadata": {},
   "outputs": [],
   "source": []
  }
 ],
 "metadata": {
  "kernelspec": {
   "display_name": "Python 3 (ipykernel)",
   "language": "python",
   "name": "python3"
  },
  "language_info": {
   "codemirror_mode": {
    "name": "ipython",
    "version": 3
   },
   "file_extension": ".py",
   "mimetype": "text/x-python",
   "name": "python",
   "nbconvert_exporter": "python",
   "pygments_lexer": "ipython3",
   "version": "3.9.12"
  }
 },
 "nbformat": 4,
 "nbformat_minor": 5
}
